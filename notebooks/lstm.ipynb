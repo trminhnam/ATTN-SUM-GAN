{
 "cells": [
  {
   "cell_type": "code",
   "execution_count": 8,
   "metadata": {},
   "outputs": [],
   "source": [
    "import torch\n",
    "import torch.nn as nn\n",
    "\n",
    "input_size = 5\n",
    "hidden_size = 10\n",
    "num_layers = 2\n",
    "\n",
    "lstm = nn.LSTM(input_size, hidden_size, num_layers, batch_first=True, bidirectional=True)"
   ]
  },
  {
   "cell_type": "code",
   "execution_count": 9,
   "metadata": {},
   "outputs": [
    {
     "name": "stdout",
     "output_type": "stream",
     "text": [
      "output: torch.Size([11, 3, 20])\n",
      "h_n: torch.Size([4, 11, 10])\n",
      "c_n: torch.Size([4, 11, 10])\n"
     ]
    }
   ],
   "source": [
    "output, (h_n, c_n) = lstm(torch.randn(11, 3, 5))\n",
    "print(f'output: {output.shape}')\n",
    "print(f'h_n: {h_n.shape}')\n",
    "print(f'c_n: {c_n.shape}')"
   ]
  },
  {
   "cell_type": "code",
   "execution_count": null,
   "metadata": {},
   "outputs": [],
   "source": []
  }
 ],
 "metadata": {
  "kernelspec": {
   "display_name": "base",
   "language": "python",
   "name": "python3"
  },
  "language_info": {
   "codemirror_mode": {
    "name": "ipython",
    "version": 3
   },
   "file_extension": ".py",
   "mimetype": "text/x-python",
   "name": "python",
   "nbconvert_exporter": "python",
   "pygments_lexer": "ipython3",
   "version": "3.11.4"
  },
  "orig_nbformat": 4
 },
 "nbformat": 4,
 "nbformat_minor": 2
}
