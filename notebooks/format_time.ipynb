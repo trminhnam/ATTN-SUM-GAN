{
 "cells": [
  {
   "cell_type": "code",
   "execution_count": 1,
   "metadata": {},
   "outputs": [
    {
     "data": {
      "text/plain": [
       "62.91"
      ]
     },
     "execution_count": 1,
     "metadata": {},
     "output_type": "execute_result"
    }
   ],
   "source": [
    "import numpy as np\n",
    "import time\n",
    "\n",
    "# 61.84 & 64.24 & 63.03 & 61.29 & 64.15\n",
    "\n",
    "\n",
    "np.mean([61.84, 64.24, 63.03, 61.29, 64.15]).round(2)"
   ]
  },
  {
   "cell_type": "code",
   "execution_count": 2,
   "metadata": {},
   "outputs": [
    {
     "data": {
      "text/plain": [
       "'00:05:05'"
      ]
     },
     "execution_count": 2,
     "metadata": {},
     "output_type": "execute_result"
    }
   ],
   "source": [
    "seconds = np.mean([\n",
    "    5.047,\n",
    "    5.103,\n",
    "    5.085,\n",
    "    5.047,\n",
    "    5.182,\n",
    "]) * 60\n",
    "\n",
    "# format hh:mm:ss\n",
    "time.strftime('%H:%M:%S', time.gmtime(seconds))"
   ]
  },
  {
   "cell_type": "code",
   "execution_count": 3,
   "metadata": {},
   "outputs": [
    {
     "data": {
      "text/plain": [
       "'01:23:57'"
      ]
     },
     "execution_count": 3,
     "metadata": {},
     "output_type": "execute_result"
    }
   ],
   "source": [
    "seconds = np.mean([\n",
    "    84.946,\n",
    "    87.788,\n",
    "    82.227,\n",
    "    85.570,\n",
    "    79.240,\n",
    "]) * 60\n",
    "\n",
    "# format hh:mm:ss\n",
    "time.strftime('%H:%M:%S', time.gmtime(seconds))"
   ]
  },
  {
   "cell_type": "markdown",
   "metadata": {},
   "source": [
    "### Attentive Base"
   ]
  },
  {
   "cell_type": "code",
   "execution_count": 4,
   "metadata": {},
   "outputs": [
    {
     "data": {
      "text/plain": [
       "'00:10:03'"
      ]
     },
     "execution_count": 4,
     "metadata": {},
     "output_type": "execute_result"
    }
   ],
   "source": [
    "seconds = np.mean([\n",
    "    11.101,\n",
    "    9.798,\n",
    "    9.739,\n",
    "    10.112,\n",
    "    9.543,\n",
    "]) * 60\n",
    "\n",
    "# format hh:mm:ss\n",
    "time.strftime('%H:%M:%S', time.gmtime(seconds))"
   ]
  },
  {
   "cell_type": "markdown",
   "metadata": {},
   "source": [
    "### LSTM base"
   ]
  },
  {
   "cell_type": "code",
   "execution_count": null,
   "metadata": {},
   "outputs": [],
   "source": [
    "# tvsum\n",
    "seconds = np.mean([\n",
    "    11.101,\n",
    "    9.798,\n",
    "    9.739,\n",
    "    10.112,\n",
    "    9.543,\n",
    "]) * 60\n",
    "\n",
    "# format hh:mm:ss\n",
    "time.strftime('%H:%M:%S', time.gmtime(seconds))"
   ]
  },
  {
   "cell_type": "code",
   "execution_count": null,
   "metadata": {},
   "outputs": [],
   "source": [
    "# summe\n",
    "seconds = np.mean([\n",
    "    11.239,\n",
    "    10.841,\n",
    "    10.811,\n",
    "    11.037,\n",
    "    9.543,\n",
    "]) * 60\n",
    "\n",
    "# format hh:mm:ss\n",
    "time.strftime('%H:%M:%S', time.gmtime(seconds))"
   ]
  }
 ],
 "metadata": {
  "kernelspec": {
   "display_name": "base",
   "language": "python",
   "name": "python3"
  },
  "language_info": {
   "codemirror_mode": {
    "name": "ipython",
    "version": 3
   },
   "file_extension": ".py",
   "mimetype": "text/x-python",
   "name": "python",
   "nbconvert_exporter": "python",
   "pygments_lexer": "ipython3",
   "version": "3.11.4"
  },
  "orig_nbformat": 4
 },
 "nbformat": 4,
 "nbformat_minor": 2
}
